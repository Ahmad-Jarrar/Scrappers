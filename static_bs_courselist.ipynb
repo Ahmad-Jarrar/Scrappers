{
 "cells": [
  {
   "cell_type": "code",
   "execution_count": 60,
   "metadata": {},
   "outputs": [],
   "source": [
    "import bs4 as bs\n",
    "import urllib.request\n",
    "\n",
    "import pandas as pd\n",
    "import json"
   ]
  },
  {
   "cell_type": "code",
   "execution_count": 61,
   "metadata": {},
   "outputs": [],
   "source": [
    "source = urllib.request.urlopen('https://seecs.nust.edu.pk/programs/').read()\n",
    "soup = bs.BeautifulSoup(source, 'lxml')"
   ]
  },
  {
   "cell_type": "code",
   "execution_count": 62,
   "metadata": {},
   "outputs": [],
   "source": [
    "data = {}\n",
    "\n",
    "for types in soup.findAll('div', class_='program-wrapper'):\n",
    "    name = types.a.text\n",
    "    data[name] = []\n",
    "    programs = types.ul\n",
    "\n",
    "    for program in programs.findAll('li'):\n",
    "        data[name].append({'name': program.a.text, 'link': program.a.get('href')})"
   ]
  },
  {
   "cell_type": "code",
   "execution_count": 64,
   "metadata": {},
   "outputs": [
    {
     "name": "stdout",
     "output_type": "stream",
     "text": [
      "BACHELOR IN ELECTRICAL ENGINEERING FOR FALL 2018 & ONWARD\n",
      "BACHELOR IN SOFTWARE ENGINEERING FOR FALL 2018 Till 2020\n",
      "BACHELOR OF SOFTWARE ENGINEERING FOR FALL 2021 & ONWARD\n",
      "BACHELOR OF SCIENCE IN COMPUTER SCIENCE\n",
      "BACHELOR OF ELECTRICAL ENGINEERING FOR FALL 2020 & ONWARD\n",
      "MS INFORMATION TECHNOLOGY\n",
      "MS ELECTRICAL ENGINEERING 2021\n",
      "MS INFORMATION SECURITY\n",
      "MS COMPUTER SCIENCE\n",
      "MS INNOVATIVE TECHNOLOGIES IN LEARNING \n",
      "MS DATA SCIENCE\n",
      "MS ARTIFICIAL INTELLIGENCE\n",
      "PHD INFORMATION TECHNOLOGY\n",
      "PHD ELECTRICAL ENGINEERING21\n",
      "PHD INFORMATION SECURITY\n",
      "PHD COMPUTER SCIENCE\n",
      "PhD Artificial Intelligence\n"
     ]
    }
   ],
   "source": [
    "for type, programs in data.items():\n",
    "    for program in programs:\n",
    "        print(program['name'])\n",
    "        raw = urllib.request.urlopen(program['link']).read()\n",
    "        processed = bs.BeautifulSoup(raw, 'lxml')\n",
    "        curriculum = processed.findAll('div', id=\"course_curriculum\")[0]\n",
    "        dfs = pd.read_html(raw)\n",
    "        \n",
    "        program['courses'] = {}\n",
    "        for df in dfs:\n",
    "            course_type = df.columns[0][0]\n",
    "            courses = []\n",
    "            records = df.to_records()\n",
    "            for item in records:\n",
    "                courses.append({'Code': item[2],'name': item[3], 'credits': item[4]})\n",
    "            program['courses'][course_type] = courses"
   ]
  },
  {
   "cell_type": "code",
   "execution_count": 65,
   "metadata": {},
   "outputs": [],
   "source": [
    "with open('Scrapped data/CourseList.json', 'w') as file:\n",
    "    json.dump(data, file, indent=4)"
   ]
  },
  {
   "cell_type": "code",
   "execution_count": null,
   "metadata": {},
   "outputs": [],
   "source": []
  }
 ],
 "metadata": {
  "interpreter": {
   "hash": "ca585555a2867b459a38eaf8b2b47956aef7a6f770e52f1f5dfa1f8f05e57688"
  },
  "kernelspec": {
   "display_name": "Python 3.8.8 64-bit (system)",
   "language": "python",
   "name": "python3"
  },
  "language_info": {
   "codemirror_mode": {
    "name": "ipython",
    "version": 3
   },
   "file_extension": ".py",
   "mimetype": "text/x-python",
   "name": "python",
   "nbconvert_exporter": "python",
   "pygments_lexer": "ipython3",
   "version": "3.8.8"
  },
  "orig_nbformat": 4
 },
 "nbformat": 4,
 "nbformat_minor": 2
}
